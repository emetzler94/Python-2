{
 "cells": [
  {
   "cell_type": "markdown",
   "metadata": {},
   "source": [
    "# Generator Functions\n",
    "\n",
    "Generator functions are similar to regular functions with one key difference:  whereas regular functions return all results at once, generators yield one value, pause the function, then resume the function where it left off once called again.\n",
    "\n",
    "## \"Return\" vs. \"Yield\"\n",
    "\n",
    "The difference between regular functions and generator functions is defined through their statements \"return\" (for regular functions) and \"yield\" (for generator functions).\n",
    "\n",
    "Return will loop through a sequence entirely and return all results at once.  The function is then reset.\n",
    "\n",
    "Yield will loop through a sequence once, pause the function where it was when it yielded, and then yield exactly one result.\n",
    "\n",
    "## Generators are Iterables\n",
    "\n",
    "Iterables are anything that can be iterated over with a sequence.  Any string, list, etc. are iterables, and now you can add generator functions to your repertoire!  Generator functions and expressions can both be iterated over automatically (with sequences) and manually (with next())."
   ]
  },
  {
   "cell_type": "code",
   "execution_count": null,
   "metadata": {},
   "outputs": [],
   "source": [
    "# It's best to demonstrate\n",
    "\n",
    "\n",
    "def gensquares(N):\n",
    "    # This function serves to square all numbers in a specified range!\n",
    "    for x in range(N):\n",
    "        yield x ** 2    # Our function will pause here, give us a result, then carry on here when called again!\n",
    "        \n",
    "# Because a generator function is an iterable, we can loop over it to get each result one at a time\n",
    "for x in gensquares(5):\n",
    "    print(x)"
   ]
  },
  {
   "cell_type": "code",
   "execution_count": null,
   "metadata": {},
   "outputs": [],
   "source": [
    "# This code relies on the above block of code.\n",
    "# This code serves to show what's under the hood of a for loop.\n",
    "\n",
    "res = gensquares(4)    # This initializes the generator which will return a generator object.\n",
    "print(res)    # This will print the generator object\n",
    "print(next(res))    # These will print each subsequent value in the function!\n",
    "print(next(res))\n",
    "print(next(res))\n",
    "print(next(res))\n",
    "print(next(res))    # This will return a StopIteration exception"
   ]
  },
  {
   "cell_type": "markdown",
   "metadata": {},
   "source": [
    "# Generator Expressions\n",
    "\n",
    "Similar to list comprehensions, generator expressions are mainly there to use less memory.  Syntactically, they are extremely similar with the difference being how the expression is wrapped.  List comprehensions are wrapped with square brackets [], while generator expressions are wrapped with parentheses ()."
   ]
  },
  {
   "cell_type": "code",
   "execution_count": null,
   "metadata": {},
   "outputs": [],
   "source": [
    "# This code will show the difference between list comprehensions and generator expressions.\n",
    "# This code also serves to show how generators are one-shot iterables, which we will get into next.\n",
    "\n",
    "lc = [x ** 2 for x in range(10)]    # This creates a list of all the values at once.\n",
    "print(lc)\n",
    "\n",
    "ge = (x ** 2 for x in range(10))    # This initializes a generator that returns those same values, but one at a time.\n",
    "print(ge)\n",
    "print(next(ge))\n",
    "print(next(ge))\n",
    "\n",
    "# What will happen when we stop manually progressing the generator and iterate over it automatically?\n",
    "gelist = []\n",
    "for x in ge:\n",
    "    gelist.append(x)\n",
    "print(gelist)"
   ]
  },
  {
   "cell_type": "markdown",
   "metadata": {},
   "source": [
    "Notice how when we started automatically iterating over the expression, it picked up where we left off with the manual iterating?  This is because generators are one-shot iterables.  Once a generator has been iterated through, it is exhausted, and thus it cannot be iterated over anymore.  To iterate again, we must create a new generator."
   ]
  },
  {
   "cell_type": "code",
   "execution_count": null,
   "metadata": {},
   "outputs": [],
   "source": [
    "# This is proof of what I mentioned.\n",
    "print(next(ge))"
   ]
  },
  {
   "cell_type": "code",
   "execution_count": null,
   "metadata": {},
   "outputs": [],
   "source": [
    "# However, we only need to make a new generator\n",
    "ge = (x ** 2 for x in range(10))\n",
    "for x in ge:\n",
    "    print(x)"
   ]
  }
 ],
 "metadata": {
  "kernelspec": {
   "display_name": "Python 3",
   "language": "python",
   "name": "python3"
  },
  "language_info": {
   "codemirror_mode": {
    "name": "ipython",
    "version": 3
   },
   "file_extension": ".py",
   "mimetype": "text/x-python",
   "name": "python",
   "nbconvert_exporter": "python",
   "pygments_lexer": "ipython3",
   "version": "3.7.3"
  }
 },
 "nbformat": 4,
 "nbformat_minor": 2
}
